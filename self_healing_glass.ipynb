{
 "cells": [
  {
   "cell_type": "markdown",
   "id": "7df679a3-8c14-4254-8ebe-b4eec9c6c89f",
   "metadata": {},
   "source": [
    "# Self Healing Glass"
   ]
  },
  {
   "cell_type": "code",
   "execution_count": 1,
   "id": "ae007bd2-02a1-4777-8eba-dfd92b9b38be",
   "metadata": {},
   "outputs": [],
   "source": [
    "from lammps import PyLammps"
   ]
  },
  {
   "cell_type": "code",
   "execution_count": 4,
   "id": "b3d93619-6c91-4a7b-90d2-a04cfd7bf5a2",
   "metadata": {},
   "outputs": [
    {
     "name": "stdout",
     "output_type": "stream",
     "text": [
      "LAMMPS (3 Mar 2020)\n",
      "  using 16 OpenMP thread(s) per MPI task\n",
      "LAMMPS output is captured by PyLammps wrapper\n"
     ]
    }
   ],
   "source": [
    "L = PyLammps()"
   ]
  },
  {
   "cell_type": "markdown",
   "id": "b53efe03-133c-43a0-88f7-8fc5602daf8c",
   "metadata": {},
   "source": [
    "#### SET SIMULATION CONDITIONS"
   ]
  },
  {
   "cell_type": "code",
   "execution_count": 5,
   "id": "f72e48d3-5568-4626-bbee-0517e40df37a",
   "metadata": {},
   "outputs": [],
   "source": [
    "L.command(\"units         lj\")\n",
    "L.command(\"atom_style    full\")\n",
    "L.command(\"dimension     3\")\n",
    "L.command(\"boundary p p p\")\n",
    "L.command(\"neighbor 0.8 bin\")\n",
    "\n",
    "L.command(\"bond_style    harmonic\")\n",
    "L.command(\"pair_style lj/expand 2.5\")"
   ]
  },
  {
   "cell_type": "code",
   "execution_count": 6,
   "id": "c52639ea-c03e-49a9-a950-485553033d39",
   "metadata": {},
   "outputs": [
    {
     "name": "stdout",
     "output_type": "stream",
     "text": [
      "Reading data file ...\n",
      "  orthogonal box = (14.7781 17.1681 14.0773) to (40.0135 44.1059 37.9255)\n",
      "  1 by 1 by 1 MPI processor grid\n",
      "  reading atoms ...\n",
      "  17496 atoms\n",
      "  reading velocities ...\n",
      "  17496 velocities\n",
      "  scanning bonds ...\n",
      "  2 = max bonds/atom\n",
      "  reading bonds ...\n",
      "  17280 bonds\n",
      "Finding 1-2 1-3 1-4 neighbors ...\n",
      "  special bond factors lj:   0          0          0         \n",
      "  special bond factors coul: 0          0          0         \n",
      "  8 = max # of 1-2 neighbors\n",
      "  8 = max # of 1-3 neighbors\n",
      "  16 = max # of 1-4 neighbors\n",
      "  24 = max # of special neighbors\n",
      "  special bonds CPU = 0.01003 secs\n",
      "  read_data CPU = 0.0723929 secs\n"
     ]
    }
   ],
   "source": [
    "L.command(\"read_data fracturedGlass.data\")"
   ]
  },
  {
   "cell_type": "markdown",
   "id": "473af204-eb66-4425-addf-a6d9e4e39b4f",
   "metadata": {},
   "source": [
    "#### POTENTIALS"
   ]
  },
  {
   "cell_type": "code",
   "execution_count": 7,
   "id": "5cfebec2-b1c7-409c-b4f0-fe8fc0732952",
   "metadata": {},
   "outputs": [
    {
     "name": "stdout",
     "output_type": "stream",
     "text": [
      "Finding 1-2 1-3 1-4 neighbors ...\n",
      "  special bond factors lj:   0          1          1         \n",
      "  special bond factors coul: 0          1          1         \n",
      "  8 = max # of 1-2 neighbors\n",
      "  24 = max # of special neighbors\n",
      "  special bonds CPU = 0.00364804 secs\n"
     ]
    }
   ],
   "source": [
    "L.command(\"bond_coeff    * 2500.0 0.9\")\n",
    "L.command(\"special_bonds fene\")\n",
    "L.command(\"pair_coeff * * 1.0 1.0 0.0 2.5\")"
   ]
  },
  {
   "cell_type": "markdown",
   "id": "75090587-0e8d-4357-b293-1c9d5c4e589d",
   "metadata": {},
   "source": [
    "#### VARIABLES DEFINITION"
   ]
  },
  {
   "cell_type": "code",
   "execution_count": 8,
   "id": "66809f17-fbc2-4e65-bda3-155564b7ce3c",
   "metadata": {},
   "outputs": [],
   "source": [
    "L.command(\"variable Temp equal 0.1\")\n",
    "L.command(\"variable dt equal 0.005\")\n",
    "L.command(\"variable Tdamping equal 100*${dt}\")"
   ]
  },
  {
   "cell_type": "markdown",
   "id": "33870454-569e-47e5-aed0-444f9667436a",
   "metadata": {},
   "source": [
    "#### THERMO-STYLE + INTEGRATION"
   ]
  },
  {
   "cell_type": "code",
   "execution_count": 9,
   "id": "8b59db79-cce3-4159-8b7c-9166a40f4682",
   "metadata": {},
   "outputs": [],
   "source": [
    "L.command(\"thermo  200\")\n",
    "L.command(\"thermo_style    custom step temp ebond epair ke etotal enthalpy vol press\")\n",
    "L.command(\"velocity     all create ${Temp} 12398412\")\n",
    "L.command(\"timestep     ${dt}\")"
   ]
  },
  {
   "cell_type": "markdown",
   "id": "c42d2bc5-29da-4d87-9e82-764554244c70",
   "metadata": {},
   "source": [
    "#### PRODUCTION"
   ]
  },
  {
   "cell_type": "code",
   "execution_count": 10,
   "id": "f9487215-e60b-4c8e-bb2f-258b59afe81c",
   "metadata": {},
   "outputs": [
    {
     "name": "stdout",
     "output_type": "stream",
     "text": [
      "Neighbor list info ...\n",
      "  update every 1 steps, delay 10 steps, check yes\n",
      "  max neighbors/atom: 2000, page size: 100000\n",
      "  master list distance cutoff = 3.3\n",
      "  ghost atom cutoff = 3.3\n",
      "  binsize = 1.65, bins = 16 17 15\n",
      "  1 neighbor lists, perpetual/occasional/extra = 1 0 0\n",
      "  (1) pair lj/expand, perpetual\n",
      "      attributes: half, newton on\n",
      "      pair build: half/bin/newton\n",
      "      stencil: half/bin/3d/newton\n",
      "      bin: standard\n",
      "Setting up Verlet run ...\n",
      "  Unit style    : lj\n",
      "  Current step  : 0\n",
      "  Time step     : 0.005\n",
      "Per MPI rank memory allocation (min/avg/max) = 61.93 | 61.93 | 61.93 Mbytes\n",
      "Step Temp E_bond E_pair KinEng TotEng Enthalpy Volume Press \n",
      "       0          0.1  0.055004218   -6.7955879   0.14999143   -6.5905923   -6.5290405    16211.683  0.066428066 \n",
      "     200   0.10045595  0.054743853   -6.7988944   0.15067531   -6.5934752   -7.0279986    16211.683  -0.46894701 \n",
      "     400  0.099117763  0.053812204   -6.7964465   0.14866815   -6.5939661    -7.314613    16211.683  -0.77773775 \n",
      "     600  0.099185965  0.054715077   -6.7921382   0.14877044   -6.5886527   -7.5279105    16211.683   -1.0136673 \n",
      "     800  0.099823387  0.055653285   -6.7917136   0.14972652   -6.5863338   -7.4031508    16211.683  -0.88152665 \n",
      "    1000   0.10057575  0.054457685   -6.7957157   0.15085501    -6.590403   -7.3037465    16211.683  -0.76985571 \n",
      "    1200  0.099866714  0.054470786   -6.7958003   0.14979151    -6.591538   -7.4371308    16211.683  -0.91258213 \n",
      "    1400  0.099452864  0.053182608   -6.7963837   0.14917077   -6.5940304   -7.5715976    16211.683   -1.0550117 \n",
      "    1600  0.099511178  0.053625917   -6.7951861   0.14925824    -6.592302   -7.7548435    16211.683     -1.25464 \n",
      "    1800  0.099326779  0.053966842   -6.7922297   0.14898165   -6.5892812    -7.917857    16211.683   -1.4338278 \n",
      "    2000  0.099982213  0.053827921   -6.7916561   0.14996475   -6.5878634   -8.0385611    16211.683   -1.5656244 \n",
      "    2200  0.099791941  0.052657164    -6.794343   0.14967936   -6.5920065   -7.9764388    16211.683   -1.4941093 \n",
      "    2400  0.099392875  0.053683731    -6.793224   0.14908079   -6.5904595    -7.978867    16211.683   -1.4983994 \n",
      "    2600   0.10043305  0.054215435   -6.7930648   0.15064096   -6.5882084    -8.033867    16211.683   -1.5601861 \n",
      "    2800  0.099471654  0.052882138   -6.7936341   0.14919895    -6.591553    -8.265251    16211.683   -1.8062912 \n",
      "    3000  0.099855956  0.053455205   -6.7941544   0.14977537   -6.5909238   -8.2867211    16211.683   -1.8301411 \n",
      "Loop time of 33.3612 on 16 procs for 3000 steps with 17496 atoms\n",
      "\n",
      "Performance: 38847.478 tau/day, 89.925 timesteps/s\n",
      "100.0% CPU use with 1 MPI tasks x 16 OpenMP threads\n",
      "\n",
      "MPI task timing breakdown:\n",
      "Section |  min time  |  avg time  |  max time  |%varavg| %total\n",
      "---------------------------------------------------------------\n",
      "Pair    | 31.294     | 31.294     | 31.294     |   0.0 | 93.80\n",
      "Bond    | 0.36115    | 0.36115    | 0.36115    |   0.0 |  1.08\n",
      "Neigh   | 0.65886    | 0.65886    | 0.65886    |   0.0 |  1.97\n",
      "Comm    | 0.15921    | 0.15921    | 0.15921    |   0.0 |  0.48\n",
      "Output  | 0.34146    | 0.34146    | 0.34146    |   0.0 |  1.02\n",
      "Modify  | 0.46444    | 0.46444    | 0.46444    |   0.0 |  1.39\n",
      "Other   |            | 0.08226    |            |       |  0.25\n",
      "\n",
      "Nlocal:    17496 ave 17496 max 17496 min\n",
      "Histogram: 1 0 0 0 0 0 0 0 0 0\n",
      "Nghost:    17909 ave 17909 max 17909 min\n",
      "Histogram: 1 0 0 0 0 0 0 0 0 0\n",
      "Neighs:    1.40065e+06 ave 1.40065e+06 max 1.40065e+06 min\n",
      "Histogram: 1 0 0 0 0 0 0 0 0 0\n",
      "\n",
      "Total # of neighbors = 1400652\n",
      "Ave neighs/atom = 80.0556\n",
      "Ave special neighs/atom = 1.97531\n",
      "Neighbor list builds = 26\n",
      "Dangerous builds = 0\n"
     ]
    }
   ],
   "source": [
    "L.command(\"fix nvtProd all nvt temp ${Temp} ${Temp} ${Tdamping}\")\n",
    "L.command(\"dump mydump all custom 200 Conf.dat id type xu yu zu vx vy vz\")\n",
    "L.command(\"dump_modify mydump sort id\")\n",
    "\n",
    "L.command(\"run 3000\")\n",
    "\n",
    "L.command(\"undump mydump\")\n",
    "L.command(\"unfix nvtProd\")\n",
    "L.command(\"reset_timestep 0\")"
   ]
  },
  {
   "cell_type": "markdown",
   "id": "eca1bd64-1b84-432c-9974-915fb07018e9",
   "metadata": {},
   "source": [
    "#### OSCILLATIONS"
   ]
  },
  {
   "cell_type": "code",
   "execution_count": 11,
   "id": "d9bde77e-8edc-48b1-a1f6-e6faeba89475",
   "metadata": {},
   "outputs": [
    {
     "name": "stdout",
     "output_type": "stream",
     "text": [
      "Changing box ...\n",
      "  triclinic box = (14.7781 17.1681 14.0773) to (40.0135 44.1059 37.9255) with tilt (0 0 0)\n",
      "Neighbor list info ...\n",
      "  update every 1 steps, delay 10 steps, check yes\n",
      "  max neighbors/atom: 2000, page size: 100000\n",
      "  master list distance cutoff = 3.3\n",
      "  ghost atom cutoff = 3.3\n",
      "  binsize = 1.65, bins = 16 17 15\n",
      "  1 neighbor lists, perpetual/occasional/extra = 1 0 0\n",
      "  (1) pair lj/expand, perpetual\n",
      "      attributes: half, newton on\n",
      "      pair build: half/bin/newton/tri\n",
      "      stencil: half/bin/3d/newton/tri\n",
      "      bin: standard\n",
      "Setting up Verlet run ...\n",
      "  Unit style    : lj\n",
      "  Current step  : 0\n",
      "  Time step     : 0.005\n",
      "Per MPI rank memory allocation (min/avg/max) = 62.19 | 62.19 | 62.19 Mbytes\n",
      "Step Temp c_usual Density Press TotEng Pxy v_strain \n",
      "       0  0.099855956  0.099855956    1.0792217   -1.8301411   -6.5909238 -0.0071173044            0 \n",
      "     200  0.012095224   0.48905231    1.0792217   -2.1762456   -6.8123098   -1.2759951  0.088167788 \n",
      "     400   0.12433435   0.34150044    1.0792217    -1.832283   -6.6190123   -1.1528541   0.14265848 \n",
      "     600  0.091146486  0.016422168    1.0792217   -1.9542471   -6.6716835  -0.65715861   0.14265848 \n",
      "     800  0.070997725   0.18501286    1.0792217   -2.1007702   -6.7270518 0.0034431997  0.088167788 \n",
      "    1000  0.087079501   0.35946238    1.0792217   -1.8253038   -6.6967381   0.67828791            0 \n",
      "    1200  0.085028728   0.38007253    1.0792217   -1.3058267   -6.6534015    1.0368227 -0.088167788 \n",
      "    1400   0.17513503   0.35065378    1.0792217  -0.99728292   -6.4337512   0.83393535  -0.14265848 \n",
      "    1600  0.086073747  0.027344444    1.0792217   -1.7726702   -6.6149701    0.5055742  -0.14265848 \n",
      "    1800  0.081815981   0.18360105    1.0792217   -1.9744106   -6.6574803  -0.14123472 -0.088167788 \n",
      "    2000  0.080001675   0.38550792    1.0792217   -1.7838999   -6.6634435  -0.62036353            0 \n",
      "    2200  0.090216599   0.42339621    1.0792217   -1.3471876   -6.6118992  -0.88431328  0.088167788 \n",
      "    2400   0.17102464   0.35472965    1.0792217  -0.95665516   -6.4254307  -0.75369102   0.14265848 \n",
      "    2600  0.082991367  0.024971107    1.0792217   -1.7738299   -6.6235343  -0.46827435   0.14265848 \n",
      "    2800  0.085025824   0.17722174    1.0792217    -1.956587   -6.6582989   0.11150241  0.088167788 \n",
      "    3000  0.077590231   0.37854454    1.0792217   -1.7857867   -6.6689781   0.72658283            0 \n",
      "    3200  0.088530941   0.40634112    1.0792217   -1.3415997   -6.6085051    0.9125035 -0.088167788 \n",
      "    3400   0.17655648   0.35719008    1.0792217  -0.90373298   -6.3973009   0.83267066  -0.14265848 \n",
      "    3600  0.081641162  0.026830561    1.0792217    -1.737922   -6.6193284   0.51927688  -0.14265848 \n",
      "    3800  0.084140421   0.17759253    1.0792217   -1.9335368   -6.6547075  -0.11190121 -0.088167788 \n",
      "    4000  0.079302084   0.37830651    1.0792217   -1.7469528   -6.6609481  -0.73159363 -1.4078281e-16 \n",
      "    4200   0.08786165   0.41152212    1.0792217   -1.3197029   -6.6053606  -0.93341866  0.088167788 \n",
      "    4400   0.17790373   0.36226967    1.0792217  -0.83165268     -6.39159  -0.80064866   0.14265848 \n",
      "    4600  0.080757781  0.027192359    1.0792217   -1.7348884   -6.6247658  -0.44154505   0.14265848 \n",
      "    4800  0.083837937   0.18107002    1.0792217   -1.8807654   -6.6587361   0.18185141  0.088167788 \n",
      "    5000  0.079395074   0.37695368    1.0792217   -1.6631896   -6.6609361   0.76190482 1.4078281e-16 \n",
      "Loop time of 69.58 on 16 procs for 5000 steps with 17496 atoms\n",
      "\n",
      "Performance: 31043.401 tau/day, 71.860 timesteps/s\n",
      "100.0% CPU use with 1 MPI tasks x 16 OpenMP threads\n",
      "\n",
      "MPI task timing breakdown:\n",
      "Section |  min time  |  avg time  |  max time  |%varavg| %total\n",
      "---------------------------------------------------------------\n",
      "Pair    | 55.09      | 55.09      | 55.09      |   0.0 | 79.17\n",
      "Bond    | 0.6085     | 0.6085     | 0.6085     |   0.0 |  0.87\n",
      "Neigh   | 9.2725     | 9.2725     | 9.2725     |   0.0 | 13.33\n",
      "Comm    | 0.32957    | 0.32957    | 0.32957    |   0.0 |  0.47\n",
      "Output  | 0.58255    | 0.58255    | 0.58255    |   0.0 |  0.84\n",
      "Modify  | 3.5652     | 3.5652     | 3.5652     |   0.0 |  5.12\n",
      "Other   |            | 0.1321     |            |       |  0.19\n",
      "\n",
      "Nlocal:    17496 ave 17496 max 17496 min\n",
      "Histogram: 1 0 0 0 0 0 0 0 0 0\n",
      "Nghost:    17786 ave 17786 max 17786 min\n",
      "Histogram: 1 0 0 0 0 0 0 0 0 0\n",
      "Neighs:    1.40323e+06 ave 1.40323e+06 max 1.40323e+06 min\n",
      "Histogram: 1 0 0 0 0 0 0 0 0 0\n",
      "\n",
      "Total # of neighbors = 1403234\n",
      "Ave neighs/atom = 80.2031\n",
      "Ave special neighs/atom = 1.97531\n",
      "Neighbor list builds = 230\n",
      "Dangerous builds = 0\n"
     ]
    }
   ],
   "source": [
    "L.command(\"change_box     all triclinic\")\n",
    "\n",
    "L.command(\"variable tmp equal lx\")\n",
    "L.command(\"variable L0 equal ${tmp}\")\n",
    "L.command(\"variable Amp equal lx*0.15  \") #% of box length\n",
    "L.command(\"variable Tp equal 10        \") #1 LJ time = 1ps, Tp=1000 --> 10^12/1000 = 10^9 Hz\n",
    "L.command(\"variable runTime equal 2.5*${Tp}/${dt}\")\n",
    "\n",
    "L.command(\"compute         1 all pressure thermo_temp\")\n",
    "L.command(\"compute         usual all temp\")\n",
    "L.command(\"compute         tilt all temp/deform\")\n",
    "L.command(\"variable        strain equal xy/v_L0\")\n",
    "L.command(\"fix             strainData all ave/time 1 1 1000 c_1[1] c_1[2] c_1[3] c_1[4] c_1[5] c_1[6] file stress.data\")\n",
    "L.command(\"thermo_style     custom step temp c_usual density press etotal pxy v_strain\")\n",
    "L.command(\"thermo_modify   temp tilt\")\n",
    "\n",
    "L.command(\"fix     nvt1 all nvt/sllod temp ${Temp} ${Temp} ${Tdamping}\")\n",
    "L.command(\"fix     oscillate all deform 1 xy wiggle ${Amp} ${Tp} units box remap v\")\n",
    "\n",
    "L.command(\"dump mydumpOsc all custom 200 ConfOsc.dat id type xu yu zu vx vy vz\")\n",
    "L.command(\"dump_modify mydumpOsc sort id\")\n",
    "\n",
    "L.command(\"run      ${runTime}\")"
   ]
  }
 ],
 "metadata": {
  "kernelspec": {
   "display_name": "Python 3 (ipykernel)",
   "language": "python",
   "name": "python3"
  },
  "language_info": {
   "codemirror_mode": {
    "name": "ipython",
    "version": 3
   },
   "file_extension": ".py",
   "mimetype": "text/x-python",
   "name": "python",
   "nbconvert_exporter": "python",
   "pygments_lexer": "ipython3",
   "version": "3.8.12"
  }
 },
 "nbformat": 4,
 "nbformat_minor": 5
}
