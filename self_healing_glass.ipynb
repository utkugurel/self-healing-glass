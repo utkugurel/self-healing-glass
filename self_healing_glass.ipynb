{
 "cells": [
  {
   "cell_type": "markdown",
   "id": "7df679a3-8c14-4254-8ebe-b4eec9c6c89f",
   "metadata": {},
   "source": [
    "# Self Healing Glass"
   ]
  },
  {
   "cell_type": "code",
   "execution_count": null,
   "id": "ae007bd2-02a1-4777-8eba-dfd92b9b38be",
   "metadata": {},
   "outputs": [],
   "source": [
    "from lammps import PyLammps"
   ]
  },
  {
   "cell_type": "code",
   "execution_count": null,
   "id": "b3d93619-6c91-4a7b-90d2-a04cfd7bf5a2",
   "metadata": {},
   "outputs": [],
   "source": [
    "L = PyLammps()"
   ]
  },
  {
   "cell_type": "markdown",
   "id": "b53efe03-133c-43a0-88f7-8fc5602daf8c",
   "metadata": {},
   "source": [
    "#### SET SIMULATION CONDITIONS"
   ]
  },
  {
   "cell_type": "code",
   "execution_count": null,
   "id": "f72e48d3-5568-4626-bbee-0517e40df37a",
   "metadata": {},
   "outputs": [],
   "source": [
    "L.command(\"units         lj\")\n",
    "L.command(\"atom_style    full\")\n",
    "L.command(\"dimension     3\")\n",
    "L.command(\"boundary p p p\")\n",
    "L.command(\"neighbor 0.8 bin\")\n",
    "\n",
    "L.command(\"bond_style    harmonic\")\n",
    "L.command(\"pair_style lj/expand 2.5\")"
   ]
  },
  {
   "cell_type": "code",
   "execution_count": null,
   "id": "c52639ea-c03e-49a9-a950-485553033d39",
   "metadata": {},
   "outputs": [],
   "source": [
    "L.command(\"read_data fracturedGlass.data\")"
   ]
  },
  {
   "cell_type": "markdown",
   "id": "473af204-eb66-4425-addf-a6d9e4e39b4f",
   "metadata": {},
   "source": [
    "#### POTENTIALS"
   ]
  },
  {
   "cell_type": "code",
   "execution_count": null,
   "id": "5cfebec2-b1c7-409c-b4f0-fe8fc0732952",
   "metadata": {},
   "outputs": [],
   "source": [
    "L.command(\"bond_coeff    * 2500.0 0.9\")\n",
    "L.command(\"special_bonds fene\")\n",
    "L.command(\"pair_coeff * * 1.0 1.0 0.0 2.5\")"
   ]
  },
  {
   "cell_type": "markdown",
   "id": "75090587-0e8d-4357-b293-1c9d5c4e589d",
   "metadata": {},
   "source": [
    "#### VARIABLES DEFINITION"
   ]
  },
  {
   "cell_type": "code",
   "execution_count": null,
   "id": "66809f17-fbc2-4e65-bda3-155564b7ce3c",
   "metadata": {},
   "outputs": [],
   "source": [
    "L.command(\"variable Temp equal 0.1\")\n",
    "L.command(\"variable dt equal 0.005\")\n",
    "L.command(\"variable Tdamping equal 100*${dt}\")"
   ]
  },
  {
   "cell_type": "markdown",
   "id": "33870454-569e-47e5-aed0-444f9667436a",
   "metadata": {},
   "source": [
    "#### THERMO-STYLE + INTEGRATION"
   ]
  },
  {
   "cell_type": "code",
   "execution_count": null,
   "id": "8b59db79-cce3-4159-8b7c-9166a40f4682",
   "metadata": {},
   "outputs": [],
   "source": [
    "L.command(\"thermo  200\")\n",
    "L.command(\"thermo_style    custom step temp ebond epair ke etotal enthalpy vol press\")\n",
    "L.command(\"velocity     all create ${Temp} 12398412\")\n",
    "L.command(\"timestep     ${dt}\")"
   ]
  },
  {
   "cell_type": "markdown",
   "id": "c42d2bc5-29da-4d87-9e82-764554244c70",
   "metadata": {},
   "source": [
    "#### PRODUCTION"
   ]
  },
  {
   "cell_type": "code",
   "execution_count": null,
   "id": "f9487215-e60b-4c8e-bb2f-258b59afe81c",
   "metadata": {},
   "outputs": [],
   "source": [
    "L.command(\"fix nvtProd all nvt temp ${Temp} ${Temp} ${Tdamping}\")\n",
    "L.command(\"dump mydump all custom 200 Conf.dat id type xu yu zu vx vy vz\")\n",
    "L.command(\"dump_modify mydump sort id\")\n",
    "\n",
    "L.command(\"run 3000\")\n",
    "\n",
    "L.command(\"undump mydump\")\n",
    "L.command(\"unfix nvtProd\")\n",
    "L.command(\"reset_timestep 0\")"
   ]
  },
  {
   "cell_type": "markdown",
   "id": "eca1bd64-1b84-432c-9974-915fb07018e9",
   "metadata": {},
   "source": [
    "#### OSCILLATIONS"
   ]
  },
  {
   "cell_type": "code",
   "execution_count": null,
   "id": "d9bde77e-8edc-48b1-a1f6-e6faeba89475",
   "metadata": {},
   "outputs": [],
   "source": [
    "L.command(\"change_box     all triclinic\")\n",
    "\n",
    "L.command(\"variable tmp equal lx\")\n",
    "L.command(\"variable L0 equal ${tmp}\")\n",
    "L.command(\"variable Amp equal lx*0.15  \") #% of box length\n",
    "L.command(\"variable Tp equal 10        \") #1 LJ time = 1ps, Tp=1000 --> 10^12/1000 = 10^9 Hz\n",
    "L.command(\"variable runTime equal 2.5*${Tp}/${dt}\")\n",
    "\n",
    "L.command(\"compute         1 all pressure thermo_temp\")\n",
    "L.command(\"compute         usual all temp\")\n",
    "L.command(\"compute         tilt all temp/deform\")\n",
    "L.command(\"variable        strain equal xy/v_L0\")\n",
    "L.command(\"fix             strainData all ave/time 1 1 1000 c_1[1] c_1[2] c_1[3] c_1[4] c_1[5] c_1[6] file stress.data\")\n",
    "L.command(\"thermo_style     custom step temp c_usual density press etotal pxy v_strain\")\n",
    "L.command(\"thermo_modify   temp tilt\")\n",
    "\n",
    "L.command(\"fix     nvt1 all nvt/sllod temp ${Temp} ${Temp} ${Tdamping}\")\n",
    "L.command(\"fix     oscillate all deform 1 xy wiggle ${Amp} ${Tp} units box remap v\")\n",
    "\n",
    "L.command(\"dump mydumpOsc all custom 200 ConfOsc.dat id type xu yu zu vx vy vz\")\n",
    "L.command(\"dump_modify mydumpOsc sort id\")\n",
    "\n",
    "L.command(\"run      ${runTime}\")"
   ]
  },
  {
   "cell_type": "code",
   "execution_count": null,
   "id": "807c0826-67b5-46bb-b8a2-28116c37e19f",
   "metadata": {},
   "outputs": [],
   "source": [
    "import nglview as nv\n",
    "import MDAnalysis as mda"
   ]
  },
  {
   "cell_type": "code",
   "execution_count": null,
   "id": "769dc5ff-fec9-4430-9df5-6f6536a687e2",
   "metadata": {},
   "outputs": [],
   "source": [
    "u = mda.Universe('Conf.dat',format='LAMMPSDUMP')\n",
    "u_osc = mda.Universe('ConfOsc.dat',format='LAMMPSDUMP')\n",
    "atoms = u.atoms\n",
    "atoms_osc = u_osc.atoms"
   ]
  },
  {
   "cell_type": "code",
   "execution_count": null,
   "id": "cbd42248-bdb5-4c3b-97d1-c61364e679d4",
   "metadata": {},
   "outputs": [],
   "source": [
    "view = nv.show_mdanalysis(atoms)\n",
    "view_osc = nv.show_mdanalysis(atoms_osc)"
   ]
  },
  {
   "cell_type": "code",
   "execution_count": null,
   "id": "bd706dc6-9f99-4a82-b9b3-e620fba15dbc",
   "metadata": {},
   "outputs": [],
   "source": [
    "view"
   ]
  },
  {
   "cell_type": "code",
   "execution_count": null,
   "id": "bb548417-78c8-4d18-a206-ccc5f579655b",
   "metadata": {},
   "outputs": [],
   "source": [
    "view_osc"
   ]
  }
 ],
 "metadata": {
  "kernelspec": {
   "display_name": "Python 3 (ipykernel)",
   "language": "python",
   "name": "python3"
  },
  "language_info": {
   "codemirror_mode": {
    "name": "ipython",
    "version": 3
   },
   "file_extension": ".py",
   "mimetype": "text/x-python",
   "name": "python",
   "nbconvert_exporter": "python",
   "pygments_lexer": "ipython3",
   "version": "3.8.12"
  }
 },
 "nbformat": 4,
 "nbformat_minor": 5
}
